{
 "cells": [
  {
   "cell_type": "markdown",
   "id": "b16b20f1-bf48-4276-9083-a0cb7035ef29",
   "metadata": {},
   "source": [
    "ANS 1"
   ]
  },
  {
   "cell_type": "code",
   "execution_count": null,
   "id": "9aa1d028-751e-4768-8d6e-a1f629d66efa",
   "metadata": {},
   "outputs": [],
   "source": [
    "Built-in exceptions offer information about Python-related problems, and custom exceptions will add information about \n",
    "project-related problems.That way, you can design your code (and traceback, if an exception is raised) in a way that\n",
    "combines Python code with the language of the project"
   ]
  },
  {
   "cell_type": "markdown",
   "id": "ece47639-c508-4250-abb2-fdd7c033f095",
   "metadata": {},
   "source": [
    "ANS 2"
   ]
  },
  {
   "cell_type": "code",
   "execution_count": null,
   "id": "e22dc73b-d676-4216-929c-877bcdc59408",
   "metadata": {},
   "outputs": [],
   "source": [
    "Python Exception hierarchy consists of various built-in exceptions. This hierarchy is used to handle various\n",
    "types of exceptions, as the concept of inheritance also comes into picture.\n",
    "\n",
    "In Python, all the built-in exceptions must be the instances of a class derived from BaseException.\n",
    "\n",
    "This Exception or Error hierarchy can be printed by importing the Python's inspect module. Using the\n",
    "inspect module, one can perform type checking, retrieve the source code of a method, inspects classes and functions,\n",
    "and examine interpreter stack.\n",
    "\n",
    "Here in this case, the getclasstree() function from the inspect module can be used to build a tree hierarchy."
   ]
  },
  {
   "cell_type": "markdown",
   "id": "ce1d92b7-de33-4586-9664-faedc7ec2a54",
   "metadata": {},
   "source": [
    "ANS 3"
   ]
  },
  {
   "cell_type": "code",
   "execution_count": null,
   "id": "94e2371c-aacf-4358-9ed9-447217c8bd23",
   "metadata": {},
   "outputs": [],
   "source": [
    "The arithmetic error occurs when an error is encountered during numeric calculations in Python. This includes\n",
    "Zerodivision Error and Floating point error. In addition, zero division error is raised when you divide\n",
    "a numeric value by zero. When we run this code, we will get a ZeroDivision error."
   ]
  },
  {
   "cell_type": "markdown",
   "id": "2ee8e3c6-e380-48bf-93e3-6c35d3061f9a",
   "metadata": {},
   "source": [
    "ANS 4"
   ]
  },
  {
   "cell_type": "code",
   "execution_count": null,
   "id": "0fd2fed4-a3f4-443a-9582-9f957d730c66",
   "metadata": {},
   "outputs": [],
   "source": [
    "The LookupError exception in Python forms the base class for all exceptions that are raised when\n",
    "an index or a key is not found for a sequence or dictionary respectively.\n",
    "\n",
    "You can use LookupError exception class to handle both IndexError and KeyError exception classes."
   ]
  },
  {
   "cell_type": "code",
   "execution_count": 1,
   "id": "ca893745-0a9a-45a6-b8c0-133c87a04a90",
   "metadata": {},
   "outputs": [
    {
     "name": "stdout",
     "output_type": "stream",
     "text": [
      "list index out of range, <class 'IndexError'>\n"
     ]
    }
   ],
   "source": [
    "# lists\n",
    "x = [1, 2, 3, 4]\n",
    "try:\n",
    "    print(x[10])\n",
    "except LookupError as e:\n",
    "    print(f\"{e}, {e.__class__}\")\n"
   ]
  },
  {
   "cell_type": "code",
   "execution_count": null,
   "id": "0ecf2e78-7e0b-4c7d-bfb9-c7875e587a1d",
   "metadata": {},
   "outputs": [],
   "source": [
    "As you can see, it is possible to catch IndexError exceptions using the LookupError exception class. \n",
    "By using e.__class__ method also helps you to identify the type of LookupError. In the above example,\n",
    "it is an IndexError."
   ]
  },
  {
   "cell_type": "code",
   "execution_count": 2,
   "id": "cc0acfe6-bc42-4ce1-9ce2-a8804f661d4c",
   "metadata": {},
   "outputs": [
    {
     "name": "stdin",
     "output_type": "stream",
     "text": [
      "What do you want to learn about Pylenin==>  ENGLISH\n"
     ]
    },
    {
     "name": "stdout",
     "output_type": "stream",
     "text": [
      "'ENGLISH', <class 'KeyError'>\n"
     ]
    }
   ],
   "source": [
    "pylenin_info = {'name': 'Lenin Mishra',\n",
    "                'age': 28,\n",
    "                'language': 'Python'}\n",
    "user_input = input('What do you want to learn about Pylenin==> ')\n",
    "\n",
    "try:\n",
    "    print(f'{user_input} is {pylenin_info[user_input]}')\n",
    "except LookupError as e:\n",
    "    print(f'{e}, {e.__class__}')"
   ]
  },
  {
   "cell_type": "markdown",
   "id": "dae6e0f3-05bc-4254-b513-efd9a0a4e501",
   "metadata": {},
   "source": [
    "ANS 5"
   ]
  },
  {
   "cell_type": "code",
   "execution_count": null,
   "id": "5b682b09-055e-4bc8-ada3-0bddd22f3a5e",
   "metadata": {},
   "outputs": [],
   "source": [
    "In Python, ImportError occurs when the Python program tries to import module which does not exist in the private table. \n",
    "This exception can be avoided using exception handling using try and except blocks.\n",
    "\n",
    "As the name implies, this error occurs when you are trying to access or use a module that cannot be found. In the case \n",
    "of the title, the \"module named Python\" cannot be found. Python here can be any module"
   ]
  },
  {
   "cell_type": "markdown",
   "id": "7c663291-b07e-472d-b493-cad75313b0d9",
   "metadata": {},
   "source": [
    "ANS 6"
   ]
  },
  {
   "cell_type": "code",
   "execution_count": null,
   "id": "9c83a01c-a5a7-4b63-986c-2d1615381f1c",
   "metadata": {},
   "outputs": [],
   "source": [
    "Use Exceptions for Exceptional Cases. \n",
    "Don't Swallow the Exception. \n",
    "Catch Specific Exceptions. ...\n",
    "Always Clean Up Resources in a Finally Block. ...\n",
    "Avoid Raising Generic Exceptions. ...\n",
    "Raise Custom Exceptions. ...\n",
    "Define Your Own Exception Hierarchy. ...\n",
    "Document All Exceptions Thrown by a Function."
   ]
  }
 ],
 "metadata": {
  "kernelspec": {
   "display_name": "Python 3 (ipykernel)",
   "language": "python",
   "name": "python3"
  },
  "language_info": {
   "codemirror_mode": {
    "name": "ipython",
    "version": 3
   },
   "file_extension": ".py",
   "mimetype": "text/x-python",
   "name": "python",
   "nbconvert_exporter": "python",
   "pygments_lexer": "ipython3",
   "version": "3.10.8"
  }
 },
 "nbformat": 4,
 "nbformat_minor": 5
}
